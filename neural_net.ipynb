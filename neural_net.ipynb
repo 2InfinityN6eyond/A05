{
 "cells": [
  {
   "cell_type": "code",
   "execution_count": null,
   "metadata": {},
   "outputs": [],
   "source": [
    "import numpy as np\n",
    "\n",
    "class NeuralNetwork :\n",
    "    def __init__(self, W) :\n",
    "        self.W = W\n",
    "        self.H_cache = [0] * (len(self.W) + 1)\n",
    "        self.dE_dnet = [0] * len(self.W)\n",
    "        self.dE_dW  = [0] * len(self.W)\n",
    "\n",
    "    def sigmoid(self, x) :\n",
    "        return 1 / (1 + np.exp(-x))\n",
    "    \n",
    "    def forward(self, x) :\n",
    "        self.H_cache[0] = x.copy()\n",
    "        for i, W in enumerate(self.W) :\n",
    "            net = np.matmul(W, self.H_cache[i])\n",
    "            self.H_cache[i + 1] = self.sigmoid(net)\n",
    "\n",
    "        return self.H_cache[-1][0]\n",
    "    \n",
    "    def backward(self, y) :\n",
    "        pass"
   ]
  }
 ],
 "metadata": {
  "language_info": {
   "name": "python"
  },
  "orig_nbformat": 4
 },
 "nbformat": 4,
 "nbformat_minor": 2
}
